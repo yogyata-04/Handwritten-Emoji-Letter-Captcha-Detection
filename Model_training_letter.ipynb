{
  "nbformat": 4,
  "nbformat_minor": 0,
  "metadata": {
    "colab": {
      "provenance": [],
      "gpuType": "T4",
      "authorship_tag": "ABX9TyMS8J5SQguKgTzwjSP8cIC0",
      "include_colab_link": true
    },
    "kernelspec": {
      "name": "python3",
      "display_name": "Python 3"
    },
    "language_info": {
      "name": "python"
    },
    "accelerator": "GPU"
  },
  "cells": [
    {
      "cell_type": "markdown",
      "metadata": {
        "id": "view-in-github",
        "colab_type": "text"
      },
      "source": [
        "<a href=\"https://colab.research.google.com/github/yogyata-04/Handwritten-Emoji-Letter-Captcha-Detection/blob/main/Model_training_letter.ipynb\" target=\"_parent\"><img src=\"https://colab.research.google.com/assets/colab-badge.svg\" alt=\"Open In Colab\"/></a>"
      ]
    },
    {
      "cell_type": "code",
      "execution_count": null,
      "metadata": {
        "id": "6wV8ZGsuxa9B"
      },
      "outputs": [],
      "source": [
        "import pandas as pd\n",
        "import numpy as np\n",
        "import matplotlib.pyplot as plt\n",
        "from keras.layers import Dropout\n",
        "from tensorflow.keras import regularizers\n",
        "from keras import layers\n",
        "from keras import models\n",
        "import keras"
      ]
    },
    {
      "cell_type": "code",
      "source": [
        "from google.colab import drive\n",
        "drive.mount('/content/drive')"
      ],
      "metadata": {
        "colab": {
          "base_uri": "https://localhost:8080/"
        },
        "id": "Cs43xWpLxrs-",
        "outputId": "dfde9682-d2f8-4755-cee5-6b0b9daffb9e"
      },
      "execution_count": null,
      "outputs": [
        {
          "output_type": "stream",
          "name": "stdout",
          "text": [
            "Drive already mounted at /content/drive; to attempt to forcibly remount, call drive.mount(\"/content/drive\", force_remount=True).\n"
          ]
        }
      ]
    },
    {
      "cell_type": "code",
      "source": [
        "df=pd.read_csv('/content/drive/MyDrive/mosaic_ps1/letter_dataset 1.csv')"
      ],
      "metadata": {
        "id": "IAmQC3QmxyJJ"
      },
      "execution_count": null,
      "outputs": []
    },
    {
      "cell_type": "code",
      "source": [
        "x = df.drop(columns = ['TARGET'])\n",
        "x=np.array(x)\n",
        "x[x>150] = 255\n",
        "x[x<=150] = 0\n",
        "y = df['TARGET']\n",
        "y.replace(26, 0, inplace=True)\n",
        "x = np.array(x).astype(float)\n",
        "y = np.array(y).astype(float)\n",
        "x = x.reshape(x.shape[0] , 28 , 28 , 1)"
      ],
      "metadata": {
        "id": "9_DYaX0qyNaS"
      },
      "execution_count": null,
      "outputs": []
    },
    {
      "cell_type": "code",
      "source": [
        "from sklearn.model_selection import train_test_split\n",
        "x_train, x_test, y_train, y_test = train_test_split(x/255.0, y, test_size=0.20, random_state=42)"
      ],
      "metadata": {
        "id": "ACVwc2X23IDw"
      },
      "execution_count": null,
      "outputs": []
    },
    {
      "cell_type": "code",
      "source": [
        "model = keras.models.Sequential()\n",
        "model.add(keras.layers.Conv2D(filters=12, kernel_size=(5,5), strides=2, activation='relu', input_shape=(28,28,1)))\n",
        "model.add(keras.layers.Dropout(.5))\n",
        "\n",
        "model.add(keras.layers.Conv2D(filters=18, kernel_size=(3,3) , strides=2, activation='relu'))\n",
        "model.add(keras.layers.Dropout(.5))\n",
        "\n",
        "model.add(keras.layers.Conv2D(filters=24, kernel_size=(2,2), activation='relu'))\n",
        "model.add(keras.layers.Flatten())\n",
        "\n",
        "model.add(keras.layers.Dense(units=150, activation='relu'))\n",
        "model.add(keras.layers.Dense(units=19, activation='softmax'))\n",
        "\n",
        "model.compile(loss='sparse_categorical_crossentropy', optimizer='Adam', metrics=['accuracy'])\n",
        "model.summary()"
      ],
      "metadata": {
        "id": "rXhWknGcyXbn",
        "colab": {
          "base_uri": "https://localhost:8080/"
        },
        "outputId": "9a124b40-61c8-42d1-ac9f-6b74c39f776b"
      },
      "execution_count": null,
      "outputs": [
        {
          "output_type": "stream",
          "name": "stdout",
          "text": [
            "Model: \"sequential_2\"\n",
            "_________________________________________________________________\n",
            " Layer (type)                Output Shape              Param #   \n",
            "=================================================================\n",
            " conv2d_6 (Conv2D)           (None, 12, 12, 12)        312       \n",
            "                                                                 \n",
            " dropout_4 (Dropout)         (None, 12, 12, 12)        0         \n",
            "                                                                 \n",
            " conv2d_7 (Conv2D)           (None, 5, 5, 18)          1962      \n",
            "                                                                 \n",
            " dropout_5 (Dropout)         (None, 5, 5, 18)          0         \n",
            "                                                                 \n",
            " conv2d_8 (Conv2D)           (None, 4, 4, 24)          1752      \n",
            "                                                                 \n",
            " flatten_2 (Flatten)         (None, 384)               0         \n",
            "                                                                 \n",
            " dense_4 (Dense)             (None, 150)               57750     \n",
            "                                                                 \n",
            " dense_5 (Dense)             (None, 19)                2869      \n",
            "                                                                 \n",
            "=================================================================\n",
            "Total params: 64,645\n",
            "Trainable params: 64,645\n",
            "Non-trainable params: 0\n",
            "_________________________________________________________________\n"
          ]
        }
      ]
    },
    {
      "cell_type": "code",
      "source": [
        "x_train, x_val, y_train, y_val = train_test_split(x_train, y_train, test_size=0.2, stratify=y_train, random_state=42)"
      ],
      "metadata": {
        "id": "YYimPgmG5QmK"
      },
      "execution_count": null,
      "outputs": []
    },
    {
      "cell_type": "code",
      "source": [
        "history = model.fit(x_train,y_train,epochs = 50,validation_data=(x_val, y_val))\n"
      ],
      "metadata": {
        "id": "6KvZXaP6yho2"
      },
      "execution_count": null,
      "outputs": []
    },
    {
      "cell_type": "code",
      "source": [
        "model.evaluate(x_test , y_test)"
      ],
      "metadata": {
        "id": "T33fp863yqxJ"
      },
      "execution_count": null,
      "outputs": []
    },
    {
      "cell_type": "code",
      "source": [
        "model.save('/content/drive/MyDrive/mosaic/model_letter_dataset_final.h5')"
      ],
      "metadata": {
        "id": "3zN8dyKyytQ_"
      },
      "execution_count": null,
      "outputs": []
    },
    {
      "cell_type": "code",
      "source": [
        "import cv2"
      ],
      "metadata": {
        "id": "qAlTOouozIUm"
      },
      "execution_count": null,
      "outputs": []
    },
    {
      "cell_type": "code",
      "source": [
        "from google.colab.patches import cv2_imshow"
      ],
      "metadata": {
        "id": "prtls1GYzLhf"
      },
      "execution_count": null,
      "outputs": []
    },
    {
      "cell_type": "code",
      "source": [
        "print(\"Enter the path of the image\")\n",
        "a = input()"
      ],
      "metadata": {
        "id": "CyKnzyTyzNXL"
      },
      "execution_count": null,
      "outputs": []
    },
    {
      "cell_type": "code",
      "source": [
        "#read and thresholded image\n",
        "image=cv2.imread(a)\n",
        "image = cv2.cvtColor(image,cv2.COLOR_RGB2GRAY)\n",
        "_,thresh= cv2.threshold(image,100, 255, cv2.THRESH_BINARY)\n",
        "#img=cv2.copyMakeBorder(thresh,200,200,200,200,cv2.BORDER_CONSTANT,value=[255,255,255])"
      ],
      "metadata": {
        "id": "aZrnlp6UzPJ9"
      },
      "execution_count": null,
      "outputs": []
    },
    {
      "cell_type": "code",
      "source": [
        "img=cv2.copyMakeBorder(thresh,200,200,0,0,cv2.BORDER_CONSTANT,value=[255,255,255])\n",
        "img.shape"
      ],
      "metadata": {
        "id": "ASWtx2nMzQ0k"
      },
      "execution_count": null,
      "outputs": []
    },
    {
      "cell_type": "code",
      "source": [
        "#erode image\n",
        "kernal=cv2.getStructuringElement(cv2.MORPH_RECT,(3,13))\n",
        "erode=cv2.erode(img,kernal,iterations=10)\n",
        "cv2_imshow(erode)"
      ],
      "metadata": {
        "id": "PtChpVqozSW3"
      },
      "execution_count": null,
      "outputs": []
    },
    {
      "cell_type": "code",
      "source": [
        "#collecting the required contours in cnt_new\n",
        "cnts,_=cv2.findContours(erode, cv2.RETR_TREE, cv2.CHAIN_APPROX_NONE)\n",
        "\n",
        "cnt_new=[]\n",
        "\n",
        "for num in range(len(cnts)):\n",
        "  if(cv2.contourArea(cnts[num])>2000):\n",
        "    cnt_new.append(cnts[num])\n",
        "\n",
        "print(len(cnt_new))"
      ],
      "metadata": {
        "id": "ljBx6QiezUFX"
      },
      "execution_count": null,
      "outputs": []
    },
    {
      "cell_type": "code",
      "source": [
        "#appending all the contour values in x and y matrix which updates from beginning after every iteration\n",
        "#then we have appended values in matrices xi,yi,xf,yf where xi is minimum x value of contour points and xf is maximum x value of contour points\n",
        "#and same for yi and yf as well\n",
        "#cv2.drawContours(erode, cnts[0][2], -1, (150, 100, 255), 10)\n",
        "xi=[]\n",
        "xf=[]\n",
        "yi=[]\n",
        "yf=[]\n",
        "for num in range(len(cnt_new)):\n",
        "  x=[]\n",
        "  for i in range(len(cnt_new[num])):\n",
        "    b=cnt_new[num][i][0][0]\n",
        "    x.append(b)\n",
        "  #print(x)\n",
        "  y=[]\n",
        "  for i in range(len(cnt_new[num])):\n",
        "    b=cnt_new[num][i][0][1]\n",
        "    y.append(b)\n",
        "\n",
        "  #print(cnt_new[num].shape)\n",
        "\n",
        "  y=np.array(y)\n",
        "  x=np.array(x)\n",
        "  y_=min(y)\n",
        "  y_h=max(y)\n",
        "  x_=min(x)\n",
        "  x_h=max(x)\n",
        "  xi.append(x_)\n",
        "  yi.append(y_)\n",
        "  xf.append(x_h)\n",
        "  yf.append(y_h)\n",
        "  #print(x_,y_,x_h,y_h)"
      ],
      "metadata": {
        "id": "EDriGmrFzWpG"
      },
      "execution_count": null,
      "outputs": []
    },
    {
      "cell_type": "code",
      "source": [
        "#swapping vales of coordinates on the basis of xi to get required order of images\n",
        "for i in range(len(cnt_new)):\n",
        "  for j in range(i):\n",
        "    if(xi[i]<xi[j]):\n",
        "      temp=xi[i]\n",
        "      xi[i]=xi[j]\n",
        "      xi[j]=temp\n",
        "      temp=xf[i]\n",
        "      xf[i]=xf[j]\n",
        "      xf[j]=temp\n",
        "      temp=yi[i]\n",
        "      yi[i]=yi[j]\n",
        "      yi[j]=temp\n",
        "      temp=yf[i]\n",
        "      yf[i]=yf[j]\n",
        "      yf[j]=temp\n",
        "\n",
        "print(xi,xf,yi,yf)\n",
        "print(len(cnt_new))"
      ],
      "metadata": {
        "id": "mSHAeDnszZBK"
      },
      "execution_count": null,
      "outputs": []
    },
    {
      "cell_type": "code",
      "source": [
        "#appending images in parts on the basis of the swapped order above\n",
        "parts=[]\n",
        "for i in range(len(cnt_new)-1):\n",
        "  cropped_image = image[yi[i+1]-160:yf[i+1]-240,xi[i+1]:xf[i+1]]\n",
        "  cv2_imshow(cropped_image)\n",
        "  parts.append(cropped_image)"
      ],
      "metadata": {
        "id": "j_THFcXIzauz"
      },
      "execution_count": null,
      "outputs": []
    },
    {
      "cell_type": "code",
      "source": [
        "parts_new=[]\n",
        "img_data=[]\n",
        "for i in range(len(cnt_new)-1):\n",
        "\n",
        "  #_,thresh= cv2.threshold(parts[i],150, 255, cv2.THRESH_BINARY)\n",
        "  kernal=cv2.getStructuringElement(cv2.MORPH_RECT,(3,3))\n",
        "  erode=cv2.erode(parts[i],kernal,iterations=1)\n",
        "  image=cv2.resize(erode, (28, 28),interpolation = cv2.INTER_AREA)\n",
        "  image = cv2.rotate(image, cv2.ROTATE_90_COUNTERCLOCKWISE)\n",
        "  image = cv2.flip(image,0)\n",
        "  parts_new.append(image)\n",
        "  image=np.array(image)\n",
        "  image = image.astype('float32')\n",
        "  img_data.append(image)\n",
        "\n",
        "  cv2_imshow(image)\n",
        "\n",
        "img_data = np.array(img_data)\n",
        "img_data[img_data>100] = 255\n",
        "img_data[img_data<=100] = 0"
      ],
      "metadata": {
        "id": "Vr2EQJyuzdl3"
      },
      "execution_count": null,
      "outputs": []
    },
    {
      "cell_type": "code",
      "source": [
        "img_data=(255-img_data)/255"
      ],
      "metadata": {
        "id": "G6Hq50l9zfKT"
      },
      "execution_count": null,
      "outputs": []
    },
    {
      "cell_type": "code",
      "source": [
        "y = np.expand_dims(img_data, axis=3)"
      ],
      "metadata": {
        "id": "K8tK35SOzi8B"
      },
      "execution_count": null,
      "outputs": []
    },
    {
      "cell_type": "code",
      "source": [
        "y.shape"
      ],
      "metadata": {
        "id": "_un65cK3zkrN"
      },
      "execution_count": null,
      "outputs": []
    },
    {
      "cell_type": "code",
      "source": [
        "import tensorflow as tf"
      ],
      "metadata": {
        "id": "iFaa60zAz3ed"
      },
      "execution_count": null,
      "outputs": []
    },
    {
      "cell_type": "code",
      "source": [
        "#test_value=[]\n",
        "#for i in range(len(cnt_new)):\n",
        "# x = pd.DataFrame(img_data)\n",
        "# x.value_counts()\n",
        "#img_data= tf.keras.utils.normalize(img_data,axis=0)\n",
        "test= model.predict(y)\n",
        "\n",
        "# test1 = model1.predict(img_data)\n",
        "\n",
        "# test = np.column_stack((test1,test))\n",
        "#test= np.array(test).astype(np.float32)\n",
        "test= np.argmax(test,axis = 1)\n",
        "print(test)\n",
        "#test_value.append(test)\n"
      ],
      "metadata": {
        "id": "X9ts8bWXzmju"
      },
      "execution_count": null,
      "outputs": []
    },
    {
      "cell_type": "code",
      "source": [
        "result_confidence=np.max(model.predict(y))\n",
        "print(result_confidence)"
      ],
      "metadata": {
        "id": "qsJJIb4HBrsN"
      },
      "execution_count": null,
      "outputs": []
    }
  ]
}