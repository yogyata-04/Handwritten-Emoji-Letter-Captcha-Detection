{
  "cells": [
    {
      "cell_type": "markdown",
      "metadata": {
        "id": "view-in-github",
        "colab_type": "text"
      },
      "source": [
        "<a href=\"https://colab.research.google.com/github/yogyata-04/Handwritten-Emoji-Letter-Captcha-Detection/blob/main/Data_preprocessing_captcha_detector.ipynb\" target=\"_parent\"><img src=\"https://colab.research.google.com/assets/colab-badge.svg\" alt=\"Open In Colab\"/></a>"
      ]
    },
    {
      "cell_type": "code",
      "execution_count": null,
      "metadata": {
        "id": "GyFXsD2OJfcm"
      },
      "outputs": [],
      "source": [
        "import pandas as pd\n",
        "import numpy as np\n",
        "import matplotlib.pyplot as plt"
      ]
    },
    {
      "cell_type": "code",
      "execution_count": null,
      "metadata": {
        "colab": {
          "base_uri": "https://localhost:8080/"
        },
        "id": "S4kJclP6JoOZ",
        "outputId": "c6e48648-2706-4df0-db48-affe3ee49f16"
      },
      "outputs": [
        {
          "name": "stdout",
          "output_type": "stream",
          "text": [
            "Drive already mounted at /content/drive; to attempt to forcibly remount, call drive.mount(\"/content/drive\", force_remount=True).\n"
          ]
        }
      ],
      "source": [
        "from google.colab import drive\n",
        "drive.mount('/content/drive')"
      ]
    },
    {
      "cell_type": "markdown",
      "metadata": {
        "id": "V61qzg275QH_"
      },
      "source": [
        "ALPHABET DATASET"
      ]
    },
    {
      "cell_type": "code",
      "execution_count": null,
      "metadata": {
        "colab": {
          "background_save": true
        },
        "id": "J4lXvak9BKPE"
      },
      "outputs": [],
      "source": [
        "df=pd.read_csv('/content/drive/MyDrive/mosaic_ps1/emnist_letters_train.csv')"
      ]
    },
    {
      "cell_type": "code",
      "execution_count": null,
      "metadata": {
        "id": "xufE5rk7u0Vs"
      },
      "outputs": [],
      "source": [
        "#3,7,9,15,17,21,22\n",
        "\n",
        "df2_1=df2[df2['23']==1]\n",
        "df2_2=df2[df2['23']==2]\n",
        "#df2_3=df2[df2['23']==3]\n",
        "df2_4=df2[df2['23']==4]\n",
        "df2_5=df2[df2['23']==5]\n",
        "df2_6=df2[df2['23']==6]\n",
        "#df2_7=df2[df2['23']==7]\n",
        "df2_8=df2[df2['23']==8]\n",
        "#df2_9=df2[df2['23']==9]\n",
        "df2_10=df2[df2['23']==10]\n",
        "df2_11=df2[df2['23']==11]\n",
        "df2_12=df2[df2['23']==12]\n",
        "df2_13=df2[df2['23']==13]\n",
        "df2_14=df2[df2['23']==14]\n",
        "#df2_15=df2[df2['23']==15]\n",
        "df2_16=df2[df2['23']==16]\n",
        "#df2_17=df2[df2['23']==17]\n",
        "df2_18=df2[df2['23']==18]\n",
        "df2_19=df2[df2['23']==19]\n",
        "df2_20=df2[df2['23']==20]\n",
        "#df2_21=df2[df2['23']==21]\n",
        "#df2_22=df2[df2['23']==22]\n",
        "df2_23=df2[df2['23']==23]\n",
        "df2_24=df2[df2['23']==24]\n",
        "df2_25=df2[df2['23']==25]\n",
        "df2_26=df2[df2['23']==26]\n"
      ]
    },
    {
      "cell_type": "code",
      "execution_count": null,
      "metadata": {
        "id": "ZMUWweX1w1LJ"
      },
      "outputs": [],
      "source": [
        "df = pd.concat([df_1, df_2,df_4,df_5,df_6,df_8,df_10,df_11,df_12,df_13,df_14,df_16,df_18,df_19,df_20,df_23,df_24,df_25,df_26], axis=0)"
      ]
    },
    {
      "cell_type": "code",
      "execution_count": null,
      "metadata": {
        "colab": {
          "base_uri": "https://localhost:8080/",
          "height": 423
        },
        "id": "enhbBusrxZ7w",
        "outputId": "5f85b826-fec9-489e-9f9c-3042959a3826"
      },
      "outputs": [
        {
          "data": {
            "text/html": [
              "\n",
              "  <div id=\"df-5becd51d-78c2-4dda-b8be-24a55b98d1c0\">\n",
              "    <div class=\"colab-df-container\">\n",
              "      <div>\n",
              "<style scoped>\n",
              "    .dataframe tbody tr th:only-of-type {\n",
              "        vertical-align: middle;\n",
              "    }\n",
              "\n",
              "    .dataframe tbody tr th {\n",
              "        vertical-align: top;\n",
              "    }\n",
              "\n",
              "    .dataframe thead th {\n",
              "        text-align: right;\n",
              "    }\n",
              "</style>\n",
              "<table border=\"1\" class=\"dataframe\">\n",
              "  <thead>\n",
              "    <tr style=\"text-align: right;\">\n",
              "      <th></th>\n",
              "      <th>23</th>\n",
              "      <th>0</th>\n",
              "      <th>0.1</th>\n",
              "      <th>0.2</th>\n",
              "      <th>0.3</th>\n",
              "      <th>0.4</th>\n",
              "      <th>0.5</th>\n",
              "      <th>0.6</th>\n",
              "      <th>0.7</th>\n",
              "      <th>0.8</th>\n",
              "      <th>...</th>\n",
              "      <th>0.406</th>\n",
              "      <th>0.407</th>\n",
              "      <th>0.408</th>\n",
              "      <th>0.409</th>\n",
              "      <th>0.410</th>\n",
              "      <th>0.411</th>\n",
              "      <th>0.412</th>\n",
              "      <th>0.413</th>\n",
              "      <th>0.414</th>\n",
              "      <th>0.415</th>\n",
              "    </tr>\n",
              "  </thead>\n",
              "  <tbody>\n",
              "    <tr>\n",
              "      <th>5829</th>\n",
              "      <td>1</td>\n",
              "      <td>0</td>\n",
              "      <td>0</td>\n",
              "      <td>0</td>\n",
              "      <td>0</td>\n",
              "      <td>0</td>\n",
              "      <td>0</td>\n",
              "      <td>0</td>\n",
              "      <td>0</td>\n",
              "      <td>0</td>\n",
              "      <td>...</td>\n",
              "      <td>0</td>\n",
              "      <td>0</td>\n",
              "      <td>0</td>\n",
              "      <td>0</td>\n",
              "      <td>0</td>\n",
              "      <td>0</td>\n",
              "      <td>0</td>\n",
              "      <td>0</td>\n",
              "      <td>0</td>\n",
              "      <td>0</td>\n",
              "    </tr>\n",
              "    <tr>\n",
              "      <th>59177</th>\n",
              "      <td>1</td>\n",
              "      <td>0</td>\n",
              "      <td>0</td>\n",
              "      <td>0</td>\n",
              "      <td>0</td>\n",
              "      <td>0</td>\n",
              "      <td>0</td>\n",
              "      <td>0</td>\n",
              "      <td>0</td>\n",
              "      <td>0</td>\n",
              "      <td>...</td>\n",
              "      <td>0</td>\n",
              "      <td>0</td>\n",
              "      <td>0</td>\n",
              "      <td>0</td>\n",
              "      <td>0</td>\n",
              "      <td>0</td>\n",
              "      <td>0</td>\n",
              "      <td>0</td>\n",
              "      <td>0</td>\n",
              "      <td>0</td>\n",
              "    </tr>\n",
              "    <tr>\n",
              "      <th>33464</th>\n",
              "      <td>1</td>\n",
              "      <td>0</td>\n",
              "      <td>0</td>\n",
              "      <td>0</td>\n",
              "      <td>0</td>\n",
              "      <td>0</td>\n",
              "      <td>0</td>\n",
              "      <td>0</td>\n",
              "      <td>0</td>\n",
              "      <td>0</td>\n",
              "      <td>...</td>\n",
              "      <td>0</td>\n",
              "      <td>0</td>\n",
              "      <td>0</td>\n",
              "      <td>0</td>\n",
              "      <td>0</td>\n",
              "      <td>0</td>\n",
              "      <td>0</td>\n",
              "      <td>0</td>\n",
              "      <td>0</td>\n",
              "      <td>0</td>\n",
              "    </tr>\n",
              "    <tr>\n",
              "      <th>39444</th>\n",
              "      <td>1</td>\n",
              "      <td>0</td>\n",
              "      <td>0</td>\n",
              "      <td>0</td>\n",
              "      <td>0</td>\n",
              "      <td>0</td>\n",
              "      <td>0</td>\n",
              "      <td>0</td>\n",
              "      <td>0</td>\n",
              "      <td>0</td>\n",
              "      <td>...</td>\n",
              "      <td>0</td>\n",
              "      <td>0</td>\n",
              "      <td>0</td>\n",
              "      <td>0</td>\n",
              "      <td>0</td>\n",
              "      <td>0</td>\n",
              "      <td>0</td>\n",
              "      <td>0</td>\n",
              "      <td>0</td>\n",
              "      <td>0</td>\n",
              "    </tr>\n",
              "    <tr>\n",
              "      <th>64266</th>\n",
              "      <td>1</td>\n",
              "      <td>0</td>\n",
              "      <td>0</td>\n",
              "      <td>0</td>\n",
              "      <td>0</td>\n",
              "      <td>0</td>\n",
              "      <td>0</td>\n",
              "      <td>0</td>\n",
              "      <td>0</td>\n",
              "      <td>0</td>\n",
              "      <td>...</td>\n",
              "      <td>0</td>\n",
              "      <td>0</td>\n",
              "      <td>0</td>\n",
              "      <td>0</td>\n",
              "      <td>0</td>\n",
              "      <td>0</td>\n",
              "      <td>0</td>\n",
              "      <td>0</td>\n",
              "      <td>0</td>\n",
              "      <td>0</td>\n",
              "    </tr>\n",
              "    <tr>\n",
              "      <th>...</th>\n",
              "      <td>...</td>\n",
              "      <td>...</td>\n",
              "      <td>...</td>\n",
              "      <td>...</td>\n",
              "      <td>...</td>\n",
              "      <td>...</td>\n",
              "      <td>...</td>\n",
              "      <td>...</td>\n",
              "      <td>...</td>\n",
              "      <td>...</td>\n",
              "      <td>...</td>\n",
              "      <td>...</td>\n",
              "      <td>...</td>\n",
              "      <td>...</td>\n",
              "      <td>...</td>\n",
              "      <td>...</td>\n",
              "      <td>...</td>\n",
              "      <td>...</td>\n",
              "      <td>...</td>\n",
              "      <td>...</td>\n",
              "      <td>...</td>\n",
              "    </tr>\n",
              "    <tr>\n",
              "      <th>42131</th>\n",
              "      <td>26</td>\n",
              "      <td>0</td>\n",
              "      <td>0</td>\n",
              "      <td>0</td>\n",
              "      <td>0</td>\n",
              "      <td>0</td>\n",
              "      <td>0</td>\n",
              "      <td>0</td>\n",
              "      <td>0</td>\n",
              "      <td>0</td>\n",
              "      <td>...</td>\n",
              "      <td>0</td>\n",
              "      <td>0</td>\n",
              "      <td>0</td>\n",
              "      <td>0</td>\n",
              "      <td>0</td>\n",
              "      <td>0</td>\n",
              "      <td>0</td>\n",
              "      <td>0</td>\n",
              "      <td>0</td>\n",
              "      <td>0</td>\n",
              "    </tr>\n",
              "    <tr>\n",
              "      <th>41295</th>\n",
              "      <td>26</td>\n",
              "      <td>0</td>\n",
              "      <td>0</td>\n",
              "      <td>0</td>\n",
              "      <td>0</td>\n",
              "      <td>0</td>\n",
              "      <td>0</td>\n",
              "      <td>0</td>\n",
              "      <td>0</td>\n",
              "      <td>0</td>\n",
              "      <td>...</td>\n",
              "      <td>0</td>\n",
              "      <td>0</td>\n",
              "      <td>0</td>\n",
              "      <td>0</td>\n",
              "      <td>0</td>\n",
              "      <td>0</td>\n",
              "      <td>0</td>\n",
              "      <td>0</td>\n",
              "      <td>0</td>\n",
              "      <td>0</td>\n",
              "    </tr>\n",
              "    <tr>\n",
              "      <th>52314</th>\n",
              "      <td>26</td>\n",
              "      <td>0</td>\n",
              "      <td>0</td>\n",
              "      <td>0</td>\n",
              "      <td>0</td>\n",
              "      <td>0</td>\n",
              "      <td>0</td>\n",
              "      <td>0</td>\n",
              "      <td>0</td>\n",
              "      <td>0</td>\n",
              "      <td>...</td>\n",
              "      <td>0</td>\n",
              "      <td>0</td>\n",
              "      <td>0</td>\n",
              "      <td>0</td>\n",
              "      <td>0</td>\n",
              "      <td>0</td>\n",
              "      <td>0</td>\n",
              "      <td>0</td>\n",
              "      <td>0</td>\n",
              "      <td>0</td>\n",
              "    </tr>\n",
              "    <tr>\n",
              "      <th>72960</th>\n",
              "      <td>26</td>\n",
              "      <td>0</td>\n",
              "      <td>0</td>\n",
              "      <td>0</td>\n",
              "      <td>0</td>\n",
              "      <td>0</td>\n",
              "      <td>0</td>\n",
              "      <td>0</td>\n",
              "      <td>0</td>\n",
              "      <td>0</td>\n",
              "      <td>...</td>\n",
              "      <td>0</td>\n",
              "      <td>0</td>\n",
              "      <td>0</td>\n",
              "      <td>0</td>\n",
              "      <td>0</td>\n",
              "      <td>0</td>\n",
              "      <td>0</td>\n",
              "      <td>0</td>\n",
              "      <td>0</td>\n",
              "      <td>0</td>\n",
              "    </tr>\n",
              "    <tr>\n",
              "      <th>16538</th>\n",
              "      <td>26</td>\n",
              "      <td>0</td>\n",
              "      <td>0</td>\n",
              "      <td>0</td>\n",
              "      <td>0</td>\n",
              "      <td>0</td>\n",
              "      <td>0</td>\n",
              "      <td>0</td>\n",
              "      <td>0</td>\n",
              "      <td>0</td>\n",
              "      <td>...</td>\n",
              "      <td>0</td>\n",
              "      <td>0</td>\n",
              "      <td>0</td>\n",
              "      <td>0</td>\n",
              "      <td>0</td>\n",
              "      <td>0</td>\n",
              "      <td>0</td>\n",
              "      <td>0</td>\n",
              "      <td>0</td>\n",
              "      <td>0</td>\n",
              "    </tr>\n",
              "  </tbody>\n",
              "</table>\n",
              "<p>15200 rows × 785 columns</p>\n",
              "</div>\n",
              "      <button class=\"colab-df-convert\" onclick=\"convertToInteractive('df-5becd51d-78c2-4dda-b8be-24a55b98d1c0')\"\n",
              "              title=\"Convert this dataframe to an interactive table.\"\n",
              "              style=\"display:none;\">\n",
              "        \n",
              "  <svg xmlns=\"http://www.w3.org/2000/svg\" height=\"24px\"viewBox=\"0 0 24 24\"\n",
              "       width=\"24px\">\n",
              "    <path d=\"M0 0h24v24H0V0z\" fill=\"none\"/>\n",
              "    <path d=\"M18.56 5.44l.94 2.06.94-2.06 2.06-.94-2.06-.94-.94-2.06-.94 2.06-2.06.94zm-11 1L8.5 8.5l.94-2.06 2.06-.94-2.06-.94L8.5 2.5l-.94 2.06-2.06.94zm10 10l.94 2.06.94-2.06 2.06-.94-2.06-.94-.94-2.06-.94 2.06-2.06.94z\"/><path d=\"M17.41 7.96l-1.37-1.37c-.4-.4-.92-.59-1.43-.59-.52 0-1.04.2-1.43.59L10.3 9.45l-7.72 7.72c-.78.78-.78 2.05 0 2.83L4 21.41c.39.39.9.59 1.41.59.51 0 1.02-.2 1.41-.59l7.78-7.78 2.81-2.81c.8-.78.8-2.07 0-2.86zM5.41 20L4 18.59l7.72-7.72 1.47 1.35L5.41 20z\"/>\n",
              "  </svg>\n",
              "      </button>\n",
              "      \n",
              "  <style>\n",
              "    .colab-df-container {\n",
              "      display:flex;\n",
              "      flex-wrap:wrap;\n",
              "      gap: 12px;\n",
              "    }\n",
              "\n",
              "    .colab-df-convert {\n",
              "      background-color: #E8F0FE;\n",
              "      border: none;\n",
              "      border-radius: 50%;\n",
              "      cursor: pointer;\n",
              "      display: none;\n",
              "      fill: #1967D2;\n",
              "      height: 32px;\n",
              "      padding: 0 0 0 0;\n",
              "      width: 32px;\n",
              "    }\n",
              "\n",
              "    .colab-df-convert:hover {\n",
              "      background-color: #E2EBFA;\n",
              "      box-shadow: 0px 1px 2px rgba(60, 64, 67, 0.3), 0px 1px 3px 1px rgba(60, 64, 67, 0.15);\n",
              "      fill: #174EA6;\n",
              "    }\n",
              "\n",
              "    [theme=dark] .colab-df-convert {\n",
              "      background-color: #3B4455;\n",
              "      fill: #D2E3FC;\n",
              "    }\n",
              "\n",
              "    [theme=dark] .colab-df-convert:hover {\n",
              "      background-color: #434B5C;\n",
              "      box-shadow: 0px 1px 3px 1px rgba(0, 0, 0, 0.15);\n",
              "      filter: drop-shadow(0px 1px 2px rgba(0, 0, 0, 0.3));\n",
              "      fill: #FFFFFF;\n",
              "    }\n",
              "  </style>\n",
              "\n",
              "      <script>\n",
              "        const buttonEl =\n",
              "          document.querySelector('#df-5becd51d-78c2-4dda-b8be-24a55b98d1c0 button.colab-df-convert');\n",
              "        buttonEl.style.display =\n",
              "          google.colab.kernel.accessAllowed ? 'block' : 'none';\n",
              "\n",
              "        async function convertToInteractive(key) {\n",
              "          const element = document.querySelector('#df-5becd51d-78c2-4dda-b8be-24a55b98d1c0');\n",
              "          const dataTable =\n",
              "            await google.colab.kernel.invokeFunction('convertToInteractive',\n",
              "                                                     [key], {});\n",
              "          if (!dataTable) return;\n",
              "\n",
              "          const docLinkHtml = 'Like what you see? Visit the ' +\n",
              "            '<a target=\"_blank\" href=https://colab.research.google.com/notebooks/data_table.ipynb>data table notebook</a>'\n",
              "            + ' to learn more about interactive tables.';\n",
              "          element.innerHTML = '';\n",
              "          dataTable['output_type'] = 'display_data';\n",
              "          await google.colab.output.renderOutput(dataTable, element);\n",
              "          const docLink = document.createElement('div');\n",
              "          docLink.innerHTML = docLinkHtml;\n",
              "          element.appendChild(docLink);\n",
              "        }\n",
              "      </script>\n",
              "    </div>\n",
              "  </div>\n",
              "  "
            ],
            "text/plain": [
              "       23  0  0.1  0.2  0.3  0.4  0.5  0.6  0.7  0.8  ...  0.406  0.407  \\\n",
              "5829    1  0    0    0    0    0    0    0    0    0  ...      0      0   \n",
              "59177   1  0    0    0    0    0    0    0    0    0  ...      0      0   \n",
              "33464   1  0    0    0    0    0    0    0    0    0  ...      0      0   \n",
              "39444   1  0    0    0    0    0    0    0    0    0  ...      0      0   \n",
              "64266   1  0    0    0    0    0    0    0    0    0  ...      0      0   \n",
              "...    .. ..  ...  ...  ...  ...  ...  ...  ...  ...  ...    ...    ...   \n",
              "42131  26  0    0    0    0    0    0    0    0    0  ...      0      0   \n",
              "41295  26  0    0    0    0    0    0    0    0    0  ...      0      0   \n",
              "52314  26  0    0    0    0    0    0    0    0    0  ...      0      0   \n",
              "72960  26  0    0    0    0    0    0    0    0    0  ...      0      0   \n",
              "16538  26  0    0    0    0    0    0    0    0    0  ...      0      0   \n",
              "\n",
              "       0.408  0.409  0.410  0.411  0.412  0.413  0.414  0.415  \n",
              "5829       0      0      0      0      0      0      0      0  \n",
              "59177      0      0      0      0      0      0      0      0  \n",
              "33464      0      0      0      0      0      0      0      0  \n",
              "39444      0      0      0      0      0      0      0      0  \n",
              "64266      0      0      0      0      0      0      0      0  \n",
              "...      ...    ...    ...    ...    ...    ...    ...    ...  \n",
              "42131      0      0      0      0      0      0      0      0  \n",
              "41295      0      0      0      0      0      0      0      0  \n",
              "52314      0      0      0      0      0      0      0      0  \n",
              "72960      0      0      0      0      0      0      0      0  \n",
              "16538      0      0      0      0      0      0      0      0  \n",
              "\n",
              "[15200 rows x 785 columns]"
            ]
          },
          "execution_count": 261,
          "metadata": {},
          "output_type": "execute_result"
        }
      ],
      "source": [
        "#df"
      ]
    },
    {
      "cell_type": "code",
      "execution_count": null,
      "metadata": {
        "id": "cAtU0Fwq0Ol4"
      },
      "outputs": [],
      "source": [
        "df.rename(columns = {'23':'TARGET'}, inplace = True)"
      ]
    },
    {
      "cell_type": "code",
      "execution_count": null,
      "metadata": {
        "id": "zvcr66cL0pqp"
      },
      "outputs": [],
      "source": [
        "count=0\n",
        "for i in df.columns:\n",
        "  if(i!='TARGET'):\n",
        "    df.rename(columns = {i:count}, inplace = True)\n",
        "    count+=1"
      ]
    },
    {
      "cell_type": "code",
      "execution_count": null,
      "metadata": {
        "id": "bj_WTPqKfLzI"
      },
      "outputs": [],
      "source": [
        "df_y=df['TARGET']\n",
        "df_x = df.drop('TARGET',axis = 1)"
      ]
    },
    {
      "cell_type": "code",
      "execution_count": null,
      "metadata": {
        "id": "pTSqDowlfSNd"
      },
      "outputs": [],
      "source": [
        "df_x[df_x>100] = 255\n",
        "df_x[df_x<=100] = 0"
      ]
    },
    {
      "cell_type": "code",
      "execution_count": null,
      "metadata": {
        "id": "82LCEObL19J3"
      },
      "outputs": [],
      "source": [
        "dataframe=pd.concat([df_y,df_x],axis=1)"
      ]
    },
    {
      "cell_type": "markdown",
      "metadata": {
        "id": "I7EFFE5L5Won"
      },
      "source": [
        "EMOJI DATASET"
      ]
    },
    {
      "cell_type": "code",
      "execution_count": null,
      "metadata": {
        "id": "zSGPuFIqEroO"
      },
      "outputs": [],
      "source": [
        "import cv2\n",
        "import os"
      ]
    },
    {
      "cell_type": "code",
      "execution_count": null,
      "metadata": {
        "id": "FsbQijGhEzGz"
      },
      "outputs": [],
      "source": [
        "img_data_array=[]\n",
        "class_name=[]"
      ]
    },
    {
      "cell_type": "code",
      "execution_count": null,
      "metadata": {
        "id": "9Ic_75lbOnAl"
      },
      "outputs": [],
      "source": [
        "def create_dataset(img_folder):\n",
        "#rotated -90 degrees\n",
        "\n",
        "    for dir1 in os.listdir(img_folder):\n",
        "        for file in os.listdir(os.path.join(img_folder, dir1)):\n",
        "            image_path= os.path.join(img_folder, dir1,  file)\n",
        "            image= cv2.imread( image_path)\n",
        "\n",
        "            image = cv2.cvtColor(image,cv2.COLOR_RGB2GRAY)\n",
        "\n",
        "            _,thresh= cv2.threshold(image,100, 255, cv2.THRESH_BINARY)\n",
        "            kernal=cv2.getStructuringElement(cv2.MORPH_RECT,(3,13))\n",
        "            erode=cv2.erode(thresh,kernal,iterations=1)\n",
        "            image=cv2.resize(erode, (28, 28),interpolation = cv2.INTER_AREA)\n",
        "            h,w=image.shape\n",
        "            center=(h//2,w//2)\n",
        "            rotation_matrix=cv2.getRotationMatrix2D(center,-90,1.0)\n",
        "            image = cv2.warpAffine(image,rotation_matrix,(w,h),borderMode=cv2.BORDER_CONSTANT,borderValue=(255,255,255))\n",
        "            image=np.array(image)\n",
        "\n",
        "            image=np.array(image)\n",
        "            image = image.astype('float32')\n",
        "            image = 255 - image\n",
        "            img_data_array.append(image)\n",
        "            class_name.append(dir1)\n",
        "    return img_data_array, class_name\n",
        "# extract the image array and class name\n",
        "img_data, class_name =create_dataset(r\"/content/drive/MyDrive/mosaic_ps1/Emoji_Dataset\")"
      ]
    },
    {
      "cell_type": "code",
      "execution_count": null,
      "metadata": {
        "id": "kIwowSUOOuze"
      },
      "outputs": [],
      "source": [
        "def create_dataset(img_folder):\n",
        "#rotated -180 degrees\n",
        "\n",
        "    for dir1 in os.listdir(img_folder):\n",
        "        for file in os.listdir(os.path.join(img_folder, dir1)):\n",
        "            image_path= os.path.join(img_folder, dir1,  file)\n",
        "            image= cv2.imread( image_path,cv2.COLOR_RGB2GRAY)\n",
        "\n",
        "            image = cv2.cvtColor(image,cv2.COLOR_RGB2GRAY)\n",
        "\n",
        "            _,thresh= cv2.threshold(image,100, 255, cv2.THRESH_BINARY)\n",
        "            kernal=cv2.getStructuringElement(cv2.MORPH_RECT,(3,13))\n",
        "            erode=cv2.erode(thresh,kernal,iterations=1)\n",
        "            image=cv2.resize(erode, (28, 28),interpolation = cv2.INTER_AREA)\n",
        "            h,w=image.shape\n",
        "            center=(h//2,w//2)\n",
        "            rotation_matrix=cv2.getRotationMatrix2D(center,-180,1.0)\n",
        "            image = cv2.warpAffine(image,rotation_matrix,(w,h),borderMode=cv2.BORDER_CONSTANT,borderValue=(255,255,255))\n",
        "\n",
        "            image=np.array(image)\n",
        "            image = image.astype('float32')\n",
        "            image = 255 - image\n",
        "            img_data_array.append(image)\n",
        "            class_name.append(dir1)\n",
        "    return img_data_array, class_name\n",
        "# extract the image array and class name\n",
        "img_data, class_name =create_dataset(r\"/content/drive/MyDrive/mosaic_ps1/Emoji_Dataset\")"
      ]
    },
    {
      "cell_type": "code",
      "execution_count": null,
      "metadata": {
        "id": "cB-B4jkPO5Lh"
      },
      "outputs": [],
      "source": [
        "def create_dataset(img_folder):\n",
        "#flip up down\n",
        "\n",
        "    for dir1 in os.listdir(img_folder):\n",
        "        for file in os.listdir(os.path.join(img_folder, dir1)):\n",
        "            image_path= os.path.join(img_folder, dir1,  file)\n",
        "            image= cv2.imread( image_path,cv2.COLOR_RGB2GRAY)\n",
        "\n",
        "            image = cv2.cvtColor(image,cv2.COLOR_RGB2GRAY)\n",
        "\n",
        "            _,thresh= cv2.threshold(image,100, 255, cv2.THRESH_BINARY)\n",
        "            kernal=cv2.getStructuringElement(cv2.MORPH_RECT,(3,13))\n",
        "            erode=cv2.erode(thresh,kernal,iterations=1)\n",
        "            image=cv2.resize(erode, (28, 28),interpolation = cv2.INTER_AREA)\n",
        "            image= np.flipud(image)\n",
        "\n",
        "\n",
        "            image=np.array(image)\n",
        "            image = image.astype('float32')\n",
        "            image = 255 - image\n",
        "            img_data_array.append(image)\n",
        "            class_name.append(dir1)\n",
        "    return img_data_array, class_name\n",
        "# extract the image array and class name\n",
        "img_data, class_name =create_dataset(r\"/content/drive/MyDrive/mosaic_ps1/Emoji_Dataset\")"
      ]
    },
    {
      "cell_type": "code",
      "execution_count": null,
      "metadata": {
        "id": "oz6gxvbuOv3g"
      },
      "outputs": [],
      "source": [
        "def create_dataset(img_folder):\n",
        "#rotated 180 degrees\n",
        "\n",
        "    for dir1 in os.listdir(img_folder):\n",
        "        for file in os.listdir(os.path.join(img_folder, dir1)):\n",
        "            image_path= os.path.join(img_folder, dir1,  file)\n",
        "            image= cv2.imread( image_path,cv2.COLOR_RGB2GRAY)\n",
        "\n",
        "            image = cv2.cvtColor(image,cv2.COLOR_RGB2GRAY)\n",
        "\n",
        "            _,thresh= cv2.threshold(image,100, 255, cv2.THRESH_BINARY)\n",
        "            kernal=cv2.getStructuringElement(cv2.MORPH_RECT,(3,13))\n",
        "            erode=cv2.erode(thresh,kernal,iterations=1)\n",
        "            image=cv2.resize(erode, (28, 28),interpolation = cv2.INTER_AREA)\n",
        "            h,w=image.shape\n",
        "            center=(h//2,w//2)\n",
        "            rotation_matrix=cv2.getRotationMatrix2D(center,180,1.0)\n",
        "            image = cv2.warpAffine(image,rotation_matrix,(w,h),borderMode=cv2.BORDER_CONSTANT,borderValue=(255,255,255))\n",
        "\n",
        "            image=np.array(image)\n",
        "            image = image.astype('float32')\n",
        "            image = 255 - image\n",
        "            img_data_array.append(image)\n",
        "            class_name.append(dir1)\n",
        "    return img_data_array, class_name\n",
        "# extract the image array and class name\n",
        "img_data, class_name =create_dataset(r\"/content/drive/MyDrive/mosaic_ps1/Emoji_Dataset\")"
      ]
    },
    {
      "cell_type": "code",
      "execution_count": null,
      "metadata": {
        "id": "xTRh-Du2OoJU"
      },
      "outputs": [],
      "source": [
        "def create_dataset(img_folder):\n",
        "#rotated 90 degrees\n",
        "\n",
        "    for dir1 in os.listdir(img_folder):\n",
        "        for file in os.listdir(os.path.join(img_folder, dir1)):\n",
        "            image_path= os.path.join(img_folder, dir1,  file)\n",
        "            image= cv2.imread( image_path)\n",
        "\n",
        "            image = cv2.cvtColor(image,cv2.COLOR_RGB2GRAY)\n",
        "\n",
        "            _,thresh= cv2.threshold(image,100, 255, cv2.THRESH_BINARY)\n",
        "            kernal=cv2.getStructuringElement(cv2.MORPH_RECT,(3,13))\n",
        "            erode=cv2.erode(thresh,kernal,iterations=1)\n",
        "            image=cv2.resize(erode, (28, 28),interpolation = cv2.INTER_AREA)\n",
        "            h,w=image.shape\n",
        "            center=(h//2,w//2)\n",
        "            rotation_matrix=cv2.getRotationMatrix2D(center,90,1.0)\n",
        "            image = cv2.warpAffine(image,rotation_matrix,(w,h),borderMode=cv2.BORDER_CONSTANT,borderValue=(255,255,255))\n",
        "            image=np.array(image)\n",
        "\n",
        "            image=np.array(image)\n",
        "            image = image.astype('float32')\n",
        "            image = 255 - image\n",
        "            img_data_array.append(image)\n",
        "            class_name.append(dir1)\n",
        "    return img_data_array, class_name\n",
        "# extract the image array and class name\n",
        "img_data, class_name =create_dataset(r\"/content/drive/MyDrive/mosaic_ps1/Emoji_Dataset\")"
      ]
    },
    {
      "cell_type": "code",
      "execution_count": null,
      "metadata": {
        "id": "DWfaAlws_Blp"
      },
      "outputs": [],
      "source": [
        "def create_dataset(img_folder):\n",
        "#rotated 30 degrees\n",
        "\n",
        "    for dir1 in os.listdir(img_folder):\n",
        "        for file in os.listdir(os.path.join(img_folder, dir1)):\n",
        "            image_path= os.path.join(img_folder, dir1,  file)\n",
        "            image= cv2.imread( image_path)\n",
        "\n",
        "            image = cv2.cvtColor(image,cv2.COLOR_RGB2GRAY)\n",
        "\n",
        "            _,thresh= cv2.threshold(image,100, 255, cv2.THRESH_BINARY)\n",
        "            kernal=cv2.getStructuringElement(cv2.MORPH_RECT,(3,13))\n",
        "            erode=cv2.erode(thresh,kernal,iterations=1)\n",
        "            image=cv2.resize(erode, (28, 28),interpolation = cv2.INTER_AREA)\n",
        "            h,w=image.shape\n",
        "            center=(h//2,w//2)\n",
        "            rotation_matrix=cv2.getRotationMatrix2D(center,30,1.0)\n",
        "            image = cv2.warpAffine(image,rotation_matrix,(w,h),borderMode=cv2.BORDER_CONSTANT,borderValue=(255,255,255))\n",
        "            image=np.array(image)\n",
        "\n",
        "            image=np.array(image)\n",
        "            image = image.astype('float32')\n",
        "            image = 255 - image\n",
        "            img_data_array.append(image)\n",
        "            class_name.append(dir1)\n",
        "    return img_data_array, class_name\n",
        "# extract the image array and class name\n",
        "img_data, class_name =create_dataset(r\"/content/drive/MyDrive/mosaic_ps1/Emoji_Dataset\")"
      ]
    },
    {
      "cell_type": "code",
      "execution_count": null,
      "metadata": {
        "id": "M29aUqFJQY0V"
      },
      "outputs": [],
      "source": [
        "def create_dataset(img_folder):\n",
        "#rotated 0 degrees\n",
        "\n",
        "    for dir1 in os.listdir(img_folder):\n",
        "        for file in os.listdir(os.path.join(img_folder, dir1)):\n",
        "            image_path= os.path.join(img_folder, dir1,  file)\n",
        "            image= cv2.imread( image_path)\n",
        "\n",
        "            image = cv2.cvtColor(image,cv2.COLOR_RGB2GRAY)\n",
        "\n",
        "            _,thresh= cv2.threshold(image,100, 255, cv2.THRESH_BINARY)\n",
        "            kernal=cv2.getStructuringElement(cv2.MORPH_RECT,(3,13))\n",
        "            erode=cv2.erode(thresh,kernal,iterations=1)\n",
        "            image=cv2.resize(erode, (28, 28),interpolation = cv2.INTER_AREA)\n",
        "            h,w=image.shape\n",
        "            center=(h//2,w//2)\n",
        "            rotation_matrix=cv2.getRotationMatrix2D(center,0,1.0)\n",
        "            image = cv2.warpAffine(image,rotation_matrix,(w,h),borderMode=cv2.BORDER_CONSTANT,borderValue=(255,255,255))\n",
        "            image=np.array(image)\n",
        "\n",
        "            image=np.array(image)\n",
        "            image = image.astype('float32')\n",
        "            image = 255 - image\n",
        "            img_data_array.append(image)\n",
        "            class_name.append(dir1)\n",
        "    return img_data_array, class_name\n",
        "# extract the image array and class name\n",
        "img_data, class_name =create_dataset(r\"/content/drive/MyDrive/mosaic_ps1/Emoji_Dataset\")"
      ]
    },
    {
      "cell_type": "code",
      "execution_count": null,
      "metadata": {
        "id": "v86hVsVIN7dc"
      },
      "outputs": [],
      "source": [
        "def create_dataset(img_folder):\n",
        "#rotated -30 degrees\n",
        "\n",
        "    for dir1 in os.listdir(img_folder):\n",
        "        for file in os.listdir(os.path.join(img_folder, dir1)):\n",
        "            image_path= os.path.join(img_folder, dir1,  file)\n",
        "            image= cv2.imread( image_path)\n",
        "\n",
        "            image = cv2.cvtColor(image,cv2.COLOR_RGB2GRAY)\n",
        "\n",
        "            _,thresh= cv2.threshold(image,100, 255, cv2.THRESH_BINARY)\n",
        "            kernal=cv2.getStructuringElement(cv2.MORPH_RECT,(3,13))\n",
        "            erode=cv2.erode(thresh,kernal,iterations=1)\n",
        "            image=cv2.resize(erode, (28, 28),interpolation = cv2.INTER_AREA)\n",
        "            h,w=image.shape\n",
        "            center=(h//2,w//2)\n",
        "            rotation_matrix=cv2.getRotationMatrix2D(center,-30,1.0)\n",
        "            image = cv2.warpAffine(image,rotation_matrix,(w,h),borderMode=cv2.BORDER_CONSTANT,borderValue=(255,255,255))\n",
        "            image=np.array(image)\n",
        "\n",
        "            image=np.array(image)\n",
        "            image = image.astype('float32')\n",
        "            image = 255 - image\n",
        "            img_data_array.append(image)\n",
        "            class_name.append(dir1)\n",
        "    return img_data_array, class_name\n",
        "# extract the image array and class name\n",
        "img_data, class_name =create_dataset(r\"/content/drive/MyDrive/mosaic_ps1/Emoji_Dataset\")"
      ]
    },
    {
      "cell_type": "code",
      "execution_count": null,
      "metadata": {
        "id": "m0USHCCVPd8v"
      },
      "outputs": [],
      "source": [
        "def create_dataset(img_folder):\n",
        "#rotated 20 degrees\n",
        "\n",
        "    for dir1 in os.listdir(img_folder):\n",
        "        for file in os.listdir(os.path.join(img_folder, dir1)):\n",
        "            image_path= os.path.join(img_folder, dir1,  file)\n",
        "            image= cv2.imread( image_path)\n",
        "\n",
        "            image = cv2.cvtColor(image,cv2.COLOR_RGB2GRAY)\n",
        "\n",
        "            _,thresh= cv2.threshold(image,100, 255, cv2.THRESH_BINARY)\n",
        "            kernal=cv2.getStructuringElement(cv2.MORPH_RECT,(3,13))\n",
        "            erode=cv2.erode(thresh,kernal,iterations=1)\n",
        "            image=cv2.resize(erode, (28, 28),interpolation = cv2.INTER_AREA)\n",
        "            h,w=image.shape\n",
        "            center=(h//2,w//2)\n",
        "            rotation_matrix=cv2.getRotationMatrix2D(center,20,1.0)\n",
        "            image = cv2.warpAffine(image,rotation_matrix,(w,h),borderMode=cv2.BORDER_CONSTANT,borderValue=(255,255,255))\n",
        "            image=np.array(image)\n",
        "\n",
        "            image=np.array(image)\n",
        "            image = image.astype('float32')\n",
        "            image = 255 - image\n",
        "            img_data_array.append(image)\n",
        "            class_name.append(dir1)\n",
        "    return img_data_array, class_name\n",
        "# extract the image array and class name\n",
        "img_data, class_name =create_dataset(r\"/content/drive/MyDrive/mosaic_ps1/Emoji_Dataset\")"
      ]
    },
    {
      "cell_type": "code",
      "execution_count": null,
      "metadata": {
        "id": "S2UM5s7QPfwb"
      },
      "outputs": [],
      "source": [
        "def create_dataset(img_folder):\n",
        "#rotated -20 degrees\n",
        "\n",
        "    for dir1 in os.listdir(img_folder):\n",
        "        for file in os.listdir(os.path.join(img_folder, dir1)):\n",
        "            image_path= os.path.join(img_folder, dir1,  file)\n",
        "            image= cv2.imread( image_path)\n",
        "\n",
        "            image = cv2.cvtColor(image,cv2.COLOR_RGB2GRAY)\n",
        "\n",
        "            _,thresh= cv2.threshold(image,100, 255, cv2.THRESH_BINARY)\n",
        "            kernal=cv2.getStructuringElement(cv2.MORPH_RECT,(3,13))\n",
        "            erode=cv2.erode(thresh,kernal,iterations=1)\n",
        "            image=cv2.resize(erode, (28, 28),interpolation = cv2.INTER_AREA)\n",
        "            h,w=image.shape\n",
        "            center=(h//2,w//2)\n",
        "            rotation_matrix=cv2.getRotationMatrix2D(center,-20,1.0)\n",
        "            image = cv2.warpAffine(image,rotation_matrix,(w,h),borderMode=cv2.BORDER_CONSTANT,borderValue=(255,255,255))\n",
        "            image=np.array(image)\n",
        "\n",
        "            image=np.array(image)\n",
        "            image = image.astype('float32')\n",
        "            image = 255 - image\n",
        "            img_data_array.append(image)\n",
        "            class_name.append(dir1)\n",
        "    return img_data_array, class_name\n",
        "# extract the image array and class name\n",
        "img_data, class_name =create_dataset(r\"/content/drive/MyDrive/mosaic_ps1/Emoji_Dataset\")"
      ]
    },
    {
      "cell_type": "code",
      "execution_count": null,
      "metadata": {
        "id": "krwIhIk2P11f"
      },
      "outputs": [],
      "source": [
        "def create_dataset(img_folder):\n",
        "#rotated 20 degrees   + flip right\n",
        "\n",
        "    for dir1 in os.listdir(img_folder):\n",
        "        for file in os.listdir(os.path.join(img_folder, dir1)):\n",
        "            image_path= os.path.join(img_folder, dir1,  file)\n",
        "            image= cv2.imread( image_path)\n",
        "\n",
        "            image = cv2.cvtColor(image,cv2.COLOR_RGB2GRAY)\n",
        "\n",
        "            _,thresh= cv2.threshold(image,100, 255, cv2.THRESH_BINARY)\n",
        "            kernal=cv2.getStructuringElement(cv2.MORPH_RECT,(3,13))\n",
        "            erode=cv2.erode(thresh,kernal,iterations=1)\n",
        "            image=cv2.resize(erode, (28, 28),interpolation = cv2.INTER_AREA)\n",
        "            image = np.fliplr(image)\n",
        "            h,w=image.shape\n",
        "            center=(h//2,w//2)\n",
        "            rotation_matrix=cv2.getRotationMatrix2D(center,20,1.0)\n",
        "            image = cv2.warpAffine(image,rotation_matrix,(w,h),borderMode=cv2.BORDER_CONSTANT,borderValue=(255,255,255))\n",
        "            image=np.array(image)\n",
        "\n",
        "            image=np.array(image)\n",
        "            image = image.astype('float32')\n",
        "            image = 255 - image\n",
        "            img_data_array.append(image)\n",
        "            class_name.append(dir1)\n",
        "    return img_data_array, class_name\n",
        "# extract the image array and class name\n",
        "img_data, class_name =create_dataset(r\"/content/drive/MyDrive/mosaic_ps1/Emoji_Dataset\")"
      ]
    },
    {
      "cell_type": "code",
      "execution_count": null,
      "metadata": {
        "id": "BHIs9NW5Q9vg"
      },
      "outputs": [],
      "source": [
        "def create_dataset(img_folder):\n",
        "#rotated -20 degrees   + flip right\n",
        "\n",
        "    for dir1 in os.listdir(img_folder):\n",
        "        for file in os.listdir(os.path.join(img_folder, dir1)):\n",
        "            image_path= os.path.join(img_folder, dir1,  file)\n",
        "            image= cv2.imread( image_path)\n",
        "\n",
        "            image = cv2.cvtColor(image,cv2.COLOR_RGB2GRAY)\n",
        "\n",
        "            _,thresh= cv2.threshold(image,100, 255, cv2.THRESH_BINARY)\n",
        "            kernal=cv2.getStructuringElement(cv2.MORPH_RECT,(3,13))\n",
        "            erode=cv2.erode(thresh,kernal,iterations=1)\n",
        "            image=cv2.resize(erode, (28, 28),interpolation = cv2.INTER_AREA)\n",
        "            image = np.fliplr(image)\n",
        "            h,w=image.shape\n",
        "            center=(h//2,w//2)\n",
        "            rotation_matrix=cv2.getRotationMatrix2D(center,-20,1.0)\n",
        "            image = cv2.warpAffine(image,rotation_matrix,(w,h),borderMode=cv2.BORDER_CONSTANT,borderValue=(255,255,255))\n",
        "            image=np.array(image)\n",
        "\n",
        "            image=np.array(image)\n",
        "            image = image.astype('float32')\n",
        "            image = 255 - image\n",
        "            img_data_array.append(image)\n",
        "            class_name.append(dir1)\n",
        "    return img_data_array, class_name\n",
        "# extract the image array and class name\n",
        "img_data, class_name =create_dataset(r\"/content/drive/MyDrive/mosaic_ps1/Emoji_Dataset\")"
      ]
    },
    {
      "cell_type": "code",
      "execution_count": null,
      "metadata": {
        "id": "Vhq5XvYvL59-"
      },
      "outputs": [],
      "source": [
        "def create_dataset(img_folder):\n",
        "#flip right\n",
        "\n",
        "    for dir1 in os.listdir(img_folder):\n",
        "        for file in os.listdir(os.path.join(img_folder, dir1)):\n",
        "            image_path= os.path.join(img_folder, dir1,  file)\n",
        "            image= cv2.imread( image_path,cv2.COLOR_RGB2GRAY)\n",
        "\n",
        "            image = cv2.cvtColor(image,cv2.COLOR_RGB2GRAY)\n",
        "\n",
        "            _,thresh= cv2.threshold(image,100, 255, cv2.THRESH_BINARY)\n",
        "            kernal=cv2.getStructuringElement(cv2.MORPH_RECT,(3,13))\n",
        "            erode=cv2.erode(thresh,kernal,iterations=1)\n",
        "            image=cv2.resize(erode, (28, 28),interpolation = cv2.INTER_AREA)\n",
        "            image = np.fliplr(image)\n",
        "\n",
        "\n",
        "            image=np.array(image)\n",
        "            image = image.astype('float32')\n",
        "            image = 255 - image\n",
        "            img_data_array.append(image)\n",
        "            class_name.append(dir1)\n",
        "    return img_data_array, class_name\n",
        "# extract the image array and class name\n",
        "img_data, class_name =create_dataset(r\"/content/drive/MyDrive/mosaic_ps1/Emoji_Dataset\")"
      ]
    },
    {
      "cell_type": "code",
      "execution_count": null,
      "metadata": {
        "colab": {
          "base_uri": "https://localhost:8080/"
        },
        "id": "UZbtUxbwFazb",
        "outputId": "57b08452-a319-408f-baab-dd7c11e8f389"
      },
      "outputs": [
        {
          "data": {
            "text/plain": [
              "(9204, 28, 28)"
            ]
          },
          "execution_count": 288,
          "metadata": {},
          "output_type": "execute_result"
        }
      ],
      "source": [
        "img_data = np.array(img_data)\n",
        "img_data.shape"
      ]
    },
    {
      "cell_type": "code",
      "source": [
        "image=img_data[500]"
      ],
      "metadata": {
        "id": "1ZPokCxhnhck"
      },
      "execution_count": null,
      "outputs": []
    },
    {
      "cell_type": "code",
      "execution_count": null,
      "metadata": {
        "id": "hwQIBP7OCM65"
      },
      "outputs": [],
      "source": [
        "image[image>100]=255\n",
        "image[image<=100]=0"
      ]
    },
    {
      "cell_type": "code",
      "execution_count": null,
      "metadata": {
        "colab": {
          "base_uri": "https://localhost:8080/",
          "height": 447
        },
        "id": "QCGpwmBIFNIU",
        "outputId": "cf307d4c-1a98-479b-d711-3dc3e7ed71b6"
      },
      "outputs": [
        {
          "data": {
            "text/plain": [
              "<matplotlib.image.AxesImage at 0x7f97eb244310>"
            ]
          },
          "execution_count": 291,
          "metadata": {},
          "output_type": "execute_result"
        },
        {
          "data": {
            "image/png": "[encoded data removed]",
            "text/plain": [
              "<Figure size 640x480 with 1 Axes>"
            ]
          },
          "metadata": {},
          "output_type": "display_data"
        }
      ],
      "source": [
        "plt.imshow(image,cmap = 'gray')"
      ]
    },
    {
      "cell_type": "code",
      "execution_count": null,
      "metadata": {
        "id": "ebAH3YWTQV9A"
      },
      "outputs": [],
      "source": [
        "class_name = np.array(class_name)\n",
        "class_name.shape"
      ]
    },
    {
      "cell_type": "code",
      "execution_count": null,
      "metadata": {
        "id": "_7Huj-3xSOWg"
      },
      "outputs": [],
      "source": [
        "DFY = pd.DataFrame(class_name)"
      ]
    },
    {
      "cell_type": "code",
      "execution_count": null,
      "metadata": {
        "id": "L5XAyC7rThoU"
      },
      "outputs": [],
      "source": [
        "DFY.rename(columns = {0:'TARGET'}, inplace = True)"
      ]
    },
    {
      "cell_type": "code",
      "execution_count": null,
      "metadata": {
        "id": "NnmfV7V3CrpG"
      },
      "outputs": [],
      "source": [
        "img_data[img_data>100]=255\n",
        "img_data[img_data<=100]=0"
      ]
    },
    {
      "cell_type": "code",
      "execution_count": null,
      "metadata": {
        "id": "fystlOaNSSlH"
      },
      "outputs": [],
      "source": [
        "DF = pd.DataFrame(img_data)"
      ]
    },
    {
      "cell_type": "code",
      "execution_count": null,
      "metadata": {
        "id": "So2fIuG4Sij5"
      },
      "outputs": [],
      "source": [
        "emoji_dataset= pd.concat([DFY, DF], axis=1)"
      ]
    },
    {
      "cell_type": "code",
      "execution_count": null,
      "metadata": {
        "id": "E7pkGd6sXgal"
      },
      "outputs": [],
      "source": [
        "for i in emoji_dataset.columns:\n",
        "    try:\n",
        "        emoji_dataset[[i]] = emoji_dataset[[i]].astype(float).astype(int)\n",
        "    except:\n",
        "        pass"
      ]
    },
    {
      "cell_type": "code",
      "execution_count": null,
      "metadata": {
        "id": "XTVH6B9oYb_E"
      },
      "outputs": [],
      "source": [
        "for i in range(9204):\n",
        "    if (emoji_dataset['TARGET'][i]=='checkmark') :\n",
        "        emoji_dataset['TARGET'][i]=3\n",
        "    if (emoji_dataset['TARGET'][i]=='cloud') :\n",
        "        emoji_dataset['TARGET'][i]=7\n",
        "    if (emoji_dataset['TARGET'][i]=='croissant') :\n",
        "        emoji_dataset['TARGET'][i]=9\n",
        "    if (emoji_dataset['TARGET'][i]=='heart') :\n",
        "        emoji_dataset['TARGET'][i]=15\n",
        "    if (emoji_dataset['TARGET'][i]=='laugh') :\n",
        "        emoji_dataset['TARGET'][i]=17\n",
        "    if (emoji_dataset['TARGET'][i]=='smile') :\n",
        "        emoji_dataset['TARGET'][i]=21\n",
        "    if (emoji_dataset['TARGET'][i]=='sun') :\n",
        "        emoji_dataset['TARGET'][i]=22"
      ]
    },
    {
      "cell_type": "markdown",
      "metadata": {
        "id": "-F7MKAkZ5qu0"
      },
      "source": [
        "MERGING ALPHABET AND EMOJI DATASET"
      ]
    },
    {
      "cell_type": "code",
      "execution_count": null,
      "metadata": {
        "id": "2e9fSrni2lnS"
      },
      "outputs": [],
      "source": [
        "#dataset = pd.concat([dataframe,emoji_dataset], axis=0)"
      ]
    },
    {
      "cell_type": "markdown",
      "metadata": {
        "id": "RL0Lhn9_ehUp"
      },
      "source": [
        "SHUFFLING DATASET"
      ]
    },
    {
      "cell_type": "code",
      "execution_count": null,
      "metadata": {
        "id": "kUspdacY3I2F"
      },
      "outputs": [],
      "source": [
        "from sklearn.utils import shuffle"
      ]
    },
    {
      "cell_type": "code",
      "execution_count": null,
      "metadata": {
        "id": "88lBQSm57QV2"
      },
      "outputs": [],
      "source": [
        "dataframe= shuffle(dataframe)\n",
        "emoji_dataset= shuffle(emoji_dataset)"
      ]
    },
    {
      "cell_type": "code",
      "execution_count": null,
      "metadata": {
        "id": "xr9u9gge30Ve"
      },
      "outputs": [],
      "source": [
        "dataframe.to_csv('letter_dataset.csv')"
      ]
    },
    {
      "cell_type": "code",
      "execution_count": null,
      "metadata": {
        "id": "MguRrWXb6PuX"
      },
      "outputs": [],
      "source": [
        "emoji_dataset.to_csv('emoji_dataset.csv')"
      ]
    }
  ],
  "metadata": {
    "colab": {
      "provenance": [],
      "authorship_tag": "ABX9TyPLQCBEbQLLKcQrGRD1Y2cz",
      "include_colab_link": true
    },
    "kernelspec": {
      "display_name": "Python 3",
      "name": "python3"
    },
    "language_info": {
      "name": "python"
    }
  },
  "nbformat": 4,
  "nbformat_minor": 0
}