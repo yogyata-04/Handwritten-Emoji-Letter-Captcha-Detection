{
  "nbformat": 4,
  "nbformat_minor": 0,
  "metadata": {
    "colab": {
      "provenance": [],
      "authorship_tag": "ABX9TyPCxpsl85JBqT0tChIKfX1M",
      "include_colab_link": true
    },
    "kernelspec": {
      "name": "python3",
      "display_name": "Python 3"
    },
    "language_info": {
      "name": "python"
    }
  },
  "cells": [
    {
      "cell_type": "markdown",
      "metadata": {
        "id": "view-in-github",
        "colab_type": "text"
      },
      "source": [
        "<a href=\"https://colab.research.google.com/github/yogyata-04/Handwritten-Emoji-Letter-Captcha-Detection/blob/main/Model_training_emoji.ipynb\" target=\"_parent\"><img src=\"https://colab.research.google.com/assets/colab-badge.svg\" alt=\"Open In Colab\"/></a>"
      ]
    },
    {
      "cell_type": "code",
      "execution_count": 5,
      "metadata": {
        "id": "6wV8ZGsuxa9B"
      },
      "outputs": [],
      "source": [
        "import pandas as pd\n",
        "import numpy as np\n",
        "import matplotlib.pyplot as plt\n",
        "from keras.layers import Dropout\n",
        "from tensorflow.keras import regularizers\n",
        "from keras import layers\n",
        "from keras import models\n",
        "import keras"
      ]
    },
    {
      "cell_type": "code",
      "source": [
        "from google.colab import drive\n",
        "drive.mount('/content/drive')"
      ],
      "metadata": {
        "colab": {
          "base_uri": "https://localhost:8080/"
        },
        "id": "Cs43xWpLxrs-",
        "outputId": "feccc0ec-b6a7-4f90-bd82-77608b8cba95"
      },
      "execution_count": null,
      "outputs": [
        {
          "output_type": "stream",
          "name": "stdout",
          "text": [
            "Drive already mounted at /content/drive; to attempt to forcibly remount, call drive.mount(\"/content/drive\", force_remount=True).\n"
          ]
        }
      ]
    },
    {
      "cell_type": "code",
      "source": [
        "df=pd.read_csv('/content/drive/MyDrive/mosaic_ps1/emoji_dataset3.csv')"
      ],
      "metadata": {
        "id": "IAmQC3QmxyJJ"
      },
      "execution_count": 6,
      "outputs": []
    },
    {
      "cell_type": "code",
      "source": [
        "x = df.drop(columns = ['TARGET'])\n",
        "x=np.array(x)\n",
        "x[x>150] = 255\n",
        "x[x<=150] = 0\n",
        "y = df['TARGET']\n",
        "y.replace(3, 0, inplace=True)\n",
        "y.replace(7, 1, inplace=True)\n",
        "y.replace(9, 2, inplace=True)\n",
        "y.replace(15, 3, inplace=True)\n",
        "y.replace(17, 4, inplace=True)\n",
        "y.replace(21, 5, inplace=True)\n",
        "y.replace(22, 6, inplace=True)\n",
        "x = np.array(x).astype(float)\n",
        "y = np.array(y).astype(float)\n",
        "x = x.reshape(x.shape[0] , 28 , 28 , 1)"
      ],
      "metadata": {
        "id": "9_DYaX0qyNaS"
      },
      "execution_count": 7,
      "outputs": []
    },
    {
      "cell_type": "code",
      "source": [
        "from sklearn.model_selection import train_test_split\n",
        "x_train, x_test, y_train, y_test = train_test_split(x/255.0, y, test_size=0.20, random_state=42)"
      ],
      "metadata": {
        "id": "ACVwc2X23IDw"
      },
      "execution_count": 8,
      "outputs": []
    },
    {
      "cell_type": "code",
      "source": [
        "model = keras.models.Sequential()\n",
        "model.add(keras.layers.Conv2D(filters=12, kernel_size=(5,5), strides=2, activation='relu', input_shape=(28,28,1)))\n",
        "model.add(keras.layers.Dropout(.5))\n",
        "\n",
        "model.add(keras.layers.Conv2D(filters=18, kernel_size=(3,3) , strides=2, activation='relu'))\n",
        "model.add(keras.layers.Dropout(.5))\n",
        "\n",
        "model.add(keras.layers.Conv2D(filters=24, kernel_size=(2,2), activation='relu'))\n",
        "model.add(keras.layers.Flatten())\n",
        "\n",
        "model.add(keras.layers.Dense(units=150, activation='relu'))\n",
        "model.add(keras.layers.Dense(units=7, activation='softmax'))\n",
        "\n",
        "model.compile(loss='sparse_categorical_crossentropy', optimizer='Adam', metrics=['accuracy'])\n",
        "model.summary()"
      ],
      "metadata": {
        "id": "rXhWknGcyXbn",
        "colab": {
          "base_uri": "https://localhost:8080/"
        },
        "outputId": "b852522c-a39f-4f3a-de20-b215f64e4637"
      },
      "execution_count": null,
      "outputs": [
        {
          "output_type": "stream",
          "name": "stdout",
          "text": [
            "Model: \"sequential_1\"\n",
            "_________________________________________________________________\n",
            " Layer (type)                Output Shape              Param #   \n",
            "=================================================================\n",
            " conv2d_3 (Conv2D)           (None, 12, 12, 12)        312       \n",
            "                                                                 \n",
            " dropout_2 (Dropout)         (None, 12, 12, 12)        0         \n",
            "                                                                 \n",
            " conv2d_4 (Conv2D)           (None, 5, 5, 18)          1962      \n",
            "                                                                 \n",
            " dropout_3 (Dropout)         (None, 5, 5, 18)          0         \n",
            "                                                                 \n",
            " conv2d_5 (Conv2D)           (None, 4, 4, 24)          1752      \n",
            "                                                                 \n",
            " flatten_1 (Flatten)         (None, 384)               0         \n",
            "                                                                 \n",
            " dense_2 (Dense)             (None, 150)               57750     \n",
            "                                                                 \n",
            " dense_3 (Dense)             (None, 7)                 1057      \n",
            "                                                                 \n",
            "=================================================================\n",
            "Total params: 62,833\n",
            "Trainable params: 62,833\n",
            "Non-trainable params: 0\n",
            "_________________________________________________________________\n"
          ]
        }
      ]
    },
    {
      "cell_type": "code",
      "source": [
        "x_train, x_val, y_train, y_val = train_test_split(x_train, y_train, test_size=0.2, stratify=y_train, random_state=42)"
      ],
      "metadata": {
        "id": "YYimPgmG5QmK"
      },
      "execution_count": null,
      "outputs": []
    },
    {
      "cell_type": "code",
      "source": [
        "history = model.fit(x_train,y_train,epochs = 50,validation_data=(x_val, y_val))\n"
      ],
      "metadata": {
        "id": "6KvZXaP6yho2"
      },
      "execution_count": null,
      "outputs": []
    },
    {
      "cell_type": "code",
      "source": [
        "model.evaluate(x_test , y_test)"
      ],
      "metadata": {
        "id": "T33fp863yqxJ",
        "outputId": "a4a53502-a4e6-4318-a138-4d42c0f7fcd0",
        "colab": {
          "base_uri": "https://localhost:8080/"
        }
      },
      "execution_count": 9,
      "outputs": [
        {
          "output_type": "stream",
          "name": "stdout",
          "text": [
            "58/58 [==============================] - 1s 7ms/step - loss: 0.0213 - accuracy: 0.9957\n"
          ]
        },
        {
          "output_type": "execute_result",
          "data": {
            "text/plain": [
              "[0.021270934492349625, 0.9956545233726501]"
            ]
          },
          "metadata": {},
          "execution_count": 9
        }
      ]
    },
    {
      "cell_type": "code",
      "source": [
        "model.save('/content/drive/MyDrive/mosaic/model_emoji_dataset_final.h5')"
      ],
      "metadata": {
        "id": "3zN8dyKyytQ_"
      },
      "execution_count": null,
      "outputs": []
    },
    {
      "cell_type": "code",
      "source": [
        "import cv2"
      ],
      "metadata": {
        "id": "qAlTOouozIUm"
      },
      "execution_count": null,
      "outputs": []
    },
    {
      "cell_type": "code",
      "source": [
        "from google.colab.patches import cv2_imshow"
      ],
      "metadata": {
        "id": "prtls1GYzLhf"
      },
      "execution_count": null,
      "outputs": []
    },
    {
      "cell_type": "code",
      "source": [
        "print(\"Enter the path of the image\")\n",
        "a = input()"
      ],
      "metadata": {
        "colab": {
          "base_uri": "https://localhost:8080/"
        },
        "id": "CyKnzyTyzNXL",
        "outputId": "d245b998-db60-4a0f-e930-bf4512155571"
      },
      "execution_count": null,
      "outputs": [
        {
          "name": "stdout",
          "output_type": "stream",
          "text": [
            "Enter the path of the image\n",
            "check.jpg\n"
          ]
        }
      ]
    },
    {
      "cell_type": "code",
      "source": [
        "#read and thresholded image\n",
        "image=cv2.imread(a)\n",
        "image = cv2.cvtColor(image,cv2.COLOR_RGB2GRAY)\n",
        "_,thresh= cv2.threshold(image,100, 255, cv2.THRESH_BINARY)\n",
        "#img=cv2.copyMakeBorder(thresh,200,200,200,200,cv2.BORDER_CONSTANT,value=[255,255,255])"
      ],
      "metadata": {
        "id": "aZrnlp6UzPJ9"
      },
      "execution_count": null,
      "outputs": []
    },
    {
      "cell_type": "code",
      "source": [
        "img=cv2.copyMakeBorder(thresh,200,200,0,0,cv2.BORDER_CONSTANT,value=[255,255,255])\n",
        "img.shape"
      ],
      "metadata": {
        "id": "ASWtx2nMzQ0k",
        "colab": {
          "base_uri": "https://localhost:8080/"
        },
        "outputId": "398ff78d-6756-4abb-e77c-731b7353a66a"
      },
      "execution_count": null,
      "outputs": [
        {
          "output_type": "execute_result",
          "data": {
            "text/plain": [
              "(651, 275)"
            ]
          },
          "metadata": {},
          "execution_count": 172
        }
      ]
    },
    {
      "cell_type": "code",
      "source": [
        "#erode image\n",
        "kernal=cv2.getStructuringElement(cv2.MORPH_RECT,(3,13))\n",
        "erode=cv2.erode(img,kernal,iterations=10)\n",
        "cv2_imshow(erode)"
      ],
      "metadata": {
        "id": "PtChpVqozSW3",
        "colab": {
          "base_uri": "https://localhost:8080/",
          "height": 668
        },
        "outputId": "bdc0acb9-08b0-4c0a-ba58-8d5552a73f70"
      },
      "execution_count": null,
      "outputs": [
        {
          "output_type": "display_data",
          "data": {
            "text/plain": [
              "<PIL.Image.Image image mode=L size=275x651 at 0x7FE7589BA200>"
            ],
            "image/png": "[encoded data removed]"
          },
          "metadata": {}
        }
      ]
    },
    {
      "cell_type": "code",
      "source": [
        "#collecting the required contours in cnt_new\n",
        "cnts,_=cv2.findContours(erode, cv2.RETR_TREE, cv2.CHAIN_APPROX_NONE)\n",
        "\n",
        "cnt_new=[]\n",
        "\n",
        "for num in range(len(cnts)):\n",
        "  if(cv2.contourArea(cnts[num])>2000):\n",
        "    cnt_new.append(cnts[num])\n",
        "\n",
        "print(len(cnt_new))"
      ],
      "metadata": {
        "id": "ljBx6QiezUFX",
        "colab": {
          "base_uri": "https://localhost:8080/"
        },
        "outputId": "a1f3e94c-b1b6-46b2-b1ce-fc0539e5d307"
      },
      "execution_count": null,
      "outputs": [
        {
          "output_type": "stream",
          "name": "stdout",
          "text": [
            "2\n"
          ]
        }
      ]
    },
    {
      "cell_type": "code",
      "source": [
        "#appending all the contour values in x and y matrix which updates from beginning after every iteration\n",
        "#then we have appended values in matrices xi,yi,xf,yf where xi is minimum x value of contour points and xf is maximum x value of contour points\n",
        "#and same for yi and yf as well\n",
        "#cv2.drawContours(erode, cnts[0][2], -1, (150, 100, 255), 10)\n",
        "xi=[]\n",
        "xf=[]\n",
        "yi=[]\n",
        "yf=[]\n",
        "for num in range(len(cnt_new)):\n",
        "  x=[]\n",
        "  for i in range(len(cnt_new[num])):\n",
        "    b=cnt_new[num][i][0][0]\n",
        "    x.append(b)\n",
        "  #print(x)\n",
        "  y=[]\n",
        "  for i in range(len(cnt_new[num])):\n",
        "    b=cnt_new[num][i][0][1]\n",
        "    y.append(b)\n",
        "\n",
        "  #print(cnt_new[num].shape)\n",
        "\n",
        "  y=np.array(y)\n",
        "  x=np.array(x)\n",
        "  y_=min(y)\n",
        "  y_h=max(y)\n",
        "  x_=min(x)\n",
        "  x_h=max(x)\n",
        "  xi.append(x_)\n",
        "  yi.append(y_)\n",
        "  xf.append(x_h)\n",
        "  yf.append(y_h)\n",
        "  #print(x_,y_,x_h,y_h)"
      ],
      "metadata": {
        "id": "EDriGmrFzWpG"
      },
      "execution_count": null,
      "outputs": []
    },
    {
      "cell_type": "code",
      "source": [
        "#swapping vales of coordinates on the basis of xi to get required order of images\n",
        "for i in range(len(cnt_new)):\n",
        "  for j in range(i):\n",
        "    if(xi[i]<xi[j]):\n",
        "      temp=xi[i]\n",
        "      xi[i]=xi[j]\n",
        "      xi[j]=temp\n",
        "      temp=xf[i]\n",
        "      xf[i]=xf[j]\n",
        "      xf[j]=temp\n",
        "      temp=yi[i]\n",
        "      yi[i]=yi[j]\n",
        "      yi[j]=temp\n",
        "      temp=yf[i]\n",
        "      yf[i]=yf[j]\n",
        "      yf[j]=temp\n",
        "\n",
        "print(xi,xf,yi,yf)\n",
        "print(len(cnt_new))"
      ],
      "metadata": {
        "id": "mSHAeDnszZBK",
        "colab": {
          "base_uri": "https://localhost:8080/"
        },
        "outputId": "b8784a8b-6f65-4163-d5a3-2e05a4ba077c"
      },
      "execution_count": null,
      "outputs": [
        {
          "output_type": "stream",
          "name": "stdout",
          "text": [
            "[0, 56] [274, 230] [0, 224] [650, 432]\n",
            "2\n"
          ]
        }
      ]
    },
    {
      "cell_type": "code",
      "source": [
        "#appending images in parts on the basis of the swapped order above\n",
        "parts=[]\n",
        "for i in range(len(cnt_new)-1):\n",
        "  cropped_image = image[yi[i+1]-160:yf[i+1]-240,xi[i+1]:xf[i+1]]\n",
        "  cv2_imshow(cropped_image)\n",
        "  parts.append(cropped_image)"
      ],
      "metadata": {
        "id": "j_THFcXIzauz",
        "colab": {
          "base_uri": "https://localhost:8080/",
          "height": 145
        },
        "outputId": "eaadb8c1-98ab-4e99-cdc5-0b7db3bea79c"
      },
      "execution_count": null,
      "outputs": [
        {
          "output_type": "display_data",
          "data": {
            "text/plain": [
              "<PIL.Image.Image image mode=L size=174x128 at 0x7FE7589E08E0>"
            ],
            "image/png": "[encoded data removed]"
          },
          "metadata": {}
        }
      ]
    },
    {
      "cell_type": "code",
      "source": [
        "parts_new=[]\n",
        "img_data=[]\n",
        "for i in range(len(cnt_new)-1):\n",
        "\n",
        "  #_,thresh= cv2.threshold(parts[i],150, 255, cv2.THRESH_BINARY)\n",
        "  kernal=cv2.getStructuringElement(cv2.MORPH_RECT,(3,3))\n",
        "  erode=cv2.erode(parts[i],kernal,iterations=1)\n",
        "  image=cv2.resize(erode, (28, 28),interpolation = cv2.INTER_AREA)\n",
        "  #image = cv2.rotate(image, cv2.ROTATE_90_COUNTERCLOCKWISE)\n",
        "  #image = cv2.flip(image,0)\n",
        "  parts_new.append(image)\n",
        "  image=np.array(image)\n",
        "  image = image.astype('float32')\n",
        "  img_data.append(image)\n",
        "\n",
        "  cv2_imshow(image)\n",
        "\n",
        "img_data = np.array(img_data)\n",
        "img_data[img_data>100] = 255\n",
        "img_data[img_data<=100] = 0"
      ],
      "metadata": {
        "id": "Vr2EQJyuzdl3",
        "colab": {
          "base_uri": "https://localhost:8080/",
          "height": 45
        },
        "outputId": "ee4f35a2-bceb-4ff0-fff1-2d872c5c38db"
      },
      "execution_count": null,
      "outputs": [
        {
          "output_type": "display_data",
          "data": {
            "text/plain": [
              "<PIL.Image.Image image mode=L size=28x28 at 0x7FE7589E34F0>"
            ],
            "image/png": "[encoded data removed]"
          },
          "metadata": {}
        }
      ]
    },
    {
      "cell_type": "code",
      "source": [
        "image=img_data[0]"
      ],
      "metadata": {
        "id": "q0CLAJs30kOp"
      },
      "execution_count": null,
      "outputs": []
    },
    {
      "cell_type": "code",
      "source": [
        "image=image.reshape(28,28,1)"
      ],
      "metadata": {
        "id": "SgkhFh7A0wf8"
      },
      "execution_count": null,
      "outputs": []
    },
    {
      "cell_type": "code",
      "source": [
        "plt.imshow(image,cmap = 'gray')"
      ],
      "metadata": {
        "id": "_NKx8cFO071Y",
        "colab": {
          "base_uri": "https://localhost:8080/",
          "height": 447
        },
        "outputId": "83597f12-c4bb-4a3e-a57d-cf3dc4a9c04c"
      },
      "execution_count": null,
      "outputs": [
        {
          "output_type": "execute_result",
          "data": {
            "text/plain": [
              "<matplotlib.image.AxesImage at 0x7fe7589f9ed0>"
            ]
          },
          "metadata": {},
          "execution_count": 190
        },
        {
          "output_type": "display_data",
          "data": {
            "text/plain": [
              "<Figure size 640x480 with 1 Axes>"
            ],
            "image/png": "[encoded data removed]"
          },
          "metadata": {}
        }
      ]
    },
    {
      "cell_type": "code",
      "source": [
        "img_data=(255-img_data)/255"
      ],
      "metadata": {
        "id": "G6Hq50l9zfKT"
      },
      "execution_count": null,
      "outputs": []
    },
    {
      "cell_type": "code",
      "source": [
        "y = np.expand_dims(img_data, axis=3)"
      ],
      "metadata": {
        "id": "K8tK35SOzi8B"
      },
      "execution_count": null,
      "outputs": []
    },
    {
      "cell_type": "code",
      "source": [
        "import tensorflow as tf"
      ],
      "metadata": {
        "id": "iFaa60zAz3ed"
      },
      "execution_count": null,
      "outputs": []
    },
    {
      "cell_type": "code",
      "source": [
        "#test_value=[]\n",
        "#for i in range(len(cnt_new)):\n",
        "# x = pd.DataFrame(img_data)\n",
        "# x.value_counts()\n",
        "img_data= tf.keras.utils.normalize(img_data,axis=0)\n",
        "test= model.predict(y)\n",
        "\n",
        "# test1 = model1.predict(img_data)\n",
        "\n",
        "# test = np.column_stack((test1,test))\n",
        "test= np.array(test).astype(np.float32)\n",
        "test= np.argmax(test,axis = 1)\n",
        "print(test)\n",
        "#test_value.append(test)\n"
      ],
      "metadata": {
        "id": "X9ts8bWXzmju",
        "colab": {
          "base_uri": "https://localhost:8080/"
        },
        "outputId": "e06abbbe-89c4-4856-d7bb-03413586ca08"
      },
      "execution_count": null,
      "outputs": [
        {
          "output_type": "stream",
          "name": "stdout",
          "text": [
            "1/1 [==============================] - 0s 18ms/step\n",
            "[0]\n"
          ]
        }
      ]
    },
    {
      "cell_type": "code",
      "source": [
        "result_confidence=np.max(model.predict(y))\n",
        "print(result_confidence)"
      ],
      "metadata": {
        "colab": {
          "base_uri": "https://localhost:8080/"
        },
        "id": "qsJJIb4HBrsN",
        "outputId": "2ff3257b-b224-48ba-cb3c-d81dc88afe32"
      },
      "execution_count": null,
      "outputs": [
        {
          "output_type": "stream",
          "name": "stdout",
          "text": [
            "1/1 [==============================] - 0s 16ms/step\n",
            "0.98806316\n"
          ]
        }
      ]
    }
  ]
}